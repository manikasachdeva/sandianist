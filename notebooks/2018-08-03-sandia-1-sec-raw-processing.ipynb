{
 "cells": [
  {
   "cell_type": "code",
   "execution_count": null,
   "metadata": {},
   "outputs": [],
   "source": [
    "from pathlib import Path\n",
    "from itertools import chain\n",
    "import pandas as pd"
   ]
  },
  {
   "cell_type": "code",
   "execution_count": null,
   "metadata": {},
   "outputs": [],
   "source": [
    "def sandia2parquet(csvPaths, outputPath):\n",
    "    \"\"\"Combine Sandia raw files and save DataFrame in Parquet.\"\"\"\n",
    "    df = pd.concat(pd.read_csv(p, parse_dates=[[0, 1]], index_col=0) for p in csvPaths)\n",
    "    df.drop_duplicates(inplace=True)\n",
    "    df.sort_index(inplace=True) # ensure datetime is increasing\n",
    "    df.to_parquet(outputPath)\n",
    "    return outputPath"
   ]
  },
  {
   "cell_type": "code",
   "execution_count": null,
   "metadata": {},
   "outputs": [],
   "source": [
    "# Original Files\n",
    "SANDIA = Path(\"/Volumes/Sandia\")\n",
    "DATA1 = SANDIA / \"Sandia chamber data613626\"\n",
    "DATA2 = SANDIA / \"Sandia chamberdata711\"\n",
    "DATA3 = SANDIA / \"Sandia Chamber Data 711725\"\n",
    "\n",
    "# List Dry files\n",
    "# Parent folder name irregular, sort each list separately then combine\n",
    "PATTERN = \"Dry_*.csv\"\n",
    "DRY_FILES = list(chain.from_iterable([\n",
    "    sorted(DATA1.glob(PATTERN)),\n",
    "    sorted(DATA2.glob(PATTERN)),\n",
    "    sorted(DATA3.glob(PATTERN)),\n",
    "]))\n",
    "\n",
    "# List of Humid files\n",
    "PATTERN = \"Humid_*.csv\"\n",
    "HUMID_FILES = list(chain.from_iterable([\n",
    "    sorted(DATA1.glob(PATTERN)),\n",
    "    sorted(DATA2.glob(PATTERN)),\n",
    "    sorted(DATA3.glob(PATTERN)),\n",
    "]))\n",
    "\n",
    "# Output files\n",
    "DRY_PARQUET = Path(\"../data/dry-0613-0724-2018.parquet\")\n",
    "HUMID_PARQUET = Path(\"../data/humid-0613-0724-2018.parquet\")"
   ]
  },
  {
   "cell_type": "code",
   "execution_count": null,
   "metadata": {},
   "outputs": [],
   "source": [
    "%%time\n",
    "# Process raw files if parquet files don't exist\n",
    "if not DRY_PARQUET.exists():\n",
    "    sandia2parquet(DRY_FILES, DRY_PARQUET)\n",
    "dry = pd.read_parquet(DRY_PARQUET)"
   ]
  },
  {
   "cell_type": "code",
   "execution_count": null,
   "metadata": {},
   "outputs": [],
   "source": [
    "%%time\n",
    "if not HUMID_PARQUET.exists():\n",
    "    sandia2parquet(HUMID_FILES, HUMID_PARQUET)\n",
    "humid = pd.read_parquet(HUMID_PARQUET)"
   ]
  },
  {
   "cell_type": "code",
   "execution_count": null,
   "metadata": {},
   "outputs": [],
   "source": [
    "dry.memory_usage()"
   ]
  },
  {
   "cell_type": "code",
   "execution_count": null,
   "metadata": {},
   "outputs": [],
   "source": [
    "# Aggregate Hourly\n",
    "dry_hourly = dry.resample('H').mean()\n",
    "humid_hourly = humid.resample('H').mean()\n",
    "\n",
    "# Column Names\n",
    "DRY_COLS = dry.columns.tolist()\n",
    "HUMID_COLS = humid.columns.tolist()"
   ]
  },
  {
   "cell_type": "code",
   "execution_count": null,
   "metadata": {},
   "outputs": [],
   "source": [
    "from ipywidgets import widgets\n",
    "from ipywidgets import interact, interactive, fixed, interact_manual"
   ]
  },
  {
   "cell_type": "code",
   "execution_count": null,
   "metadata": {},
   "outputs": [],
   "source": [
    "drySelect = widgets.SelectMultiple(\n",
    "    options=DRY_COLS,\n",
    "    value=DRY_COLS[:1],\n",
    "    description='Temperature:',\n",
    "    disabled=False,\n",
    ")\n",
    "\n",
    "def plot_dry(cols):\n",
    "    print(cols)\n",
    "    dry_hourly.loc[:, cols].plot()\n",
    "    \n",
    "iplot = interactive(plot_dry, cols=drySelect)\n",
    "output = iplot.children[-1]\n",
    "output.layout.height = '350px'\n",
    "iplot"
   ]
  },
  {
   "cell_type": "code",
   "execution_count": null,
   "metadata": {},
   "outputs": [],
   "source": [
    "humidSelect = widgets.SelectMultiple(\n",
    "    options=HUMID_COLS,\n",
    "    value=HUMID_COLS[:1],\n",
    "    description='Temperature:',\n",
    "    disabled=False,\n",
    ")\n",
    "\n",
    "def plot_humid(cols):\n",
    "    print(cols)\n",
    "    humid_hourly.loc[:, cols].plot()\n",
    "\n",
    "iplot = interactive(plot_humid, cols=humidSelect)\n",
    "output = iplot.children[-1]\n",
    "output.layout.height = '350px'\n",
    "iplot"
   ]
  }
 ],
 "metadata": {
  "kernelspec": {
   "display_name": "Python 3",
   "language": "python",
   "name": "python3"
  },
  "language_info": {
   "codemirror_mode": {
    "name": "ipython",
    "version": 3
   },
   "file_extension": ".py",
   "mimetype": "text/x-python",
   "name": "python",
   "nbconvert_exporter": "python",
   "pygments_lexer": "ipython3",
   "version": "3.6.5"
  }
 },
 "nbformat": 4,
 "nbformat_minor": 2
}
