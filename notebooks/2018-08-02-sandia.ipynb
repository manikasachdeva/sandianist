{
 "cells": [
  {
   "cell_type": "code",
   "execution_count": 1,
   "metadata": {},
   "outputs": [
    {
     "name": "stderr",
     "output_type": "stream",
     "text": [
      "/Users/tnc/.local/share/virtualenvs/sandia-graph-dnexFyKw/lib/python3.6/importlib/_bootstrap.py:219: RuntimeWarning: numpy.dtype size changed, may indicate binary incompatibility. Expected 96, got 88\n",
      "  return f(*args, **kwds)\n",
      "/Users/tnc/.local/share/virtualenvs/sandia-graph-dnexFyKw/lib/python3.6/importlib/_bootstrap.py:219: RuntimeWarning: numpy.dtype size changed, may indicate binary incompatibility. Expected 96, got 88\n",
      "  return f(*args, **kwds)\n"
     ]
    }
   ],
   "source": [
    "from pathlib import Path\n",
    "import pandas as pd\n",
    "from ipywidgets import widgets\n",
    "from ipywidgets import interact, interactive, fixed, interact_manual"
   ]
  },
  {
   "cell_type": "code",
   "execution_count": 2,
   "metadata": {},
   "outputs": [],
   "source": [
    "# Pre-processed data saved in Parquet fomrat\n",
    "DATA = Path(\"../data\")\n",
    "DRY = DATA / \"dry-minute-2018.parquet\"\n",
    "HUMID = DATA / \"humid-minute-2018.parquet\"\n",
    "\n",
    "if DRY.exists() and HUMID.exists():\n",
    "    # This loads much faster than from CSV\n",
    "    dry = pd.read_parquet(DRY)\n",
    "    humid = pd.read_parquet(HUMID)\n",
    "else:\n",
    "    # Path to 1-min raw data, you may need to adjust these accordingly.\n",
    "    DATA = Path(\"/Volumes/Sandia Chamber Data-NIST/1 second data/\")\n",
    "    DRY = DATA / \"Dry\" / \"1 minute mean\" / \"Dry 2018.csv\"\n",
    "    HUMID = DATA / \"Humid\" / \"1 minute mean\" / \"Humid 2018.csv\"\n",
    "    # This could take a minute to load, depending on file location\n",
    "    dry = pd.read_csv(DRY, parse_dates=[[0, 1]], index_col=0)\n",
    "    humid = pd.read_csv(HUMID, parse_dates=[[0, 1]], index_col=0)\n",
    "    dry.to_parquet(\"data/dry-minute-2018.parquet\")\n",
    "    humid.to_parquet(\"data/humid-minute-2018.parquet\")"
   ]
  },
  {
   "cell_type": "code",
   "execution_count": 3,
   "metadata": {},
   "outputs": [],
   "source": [
    "# Aggregate Hourly\n",
    "dry_hourly = dry.resample('H').mean()\n",
    "humid_hourly = humid.resample('H').mean()\n",
    "\n",
    "# Column Names\n",
    "DRY_COLS = dry.columns.tolist()\n",
    "HUMID_COLS = humid.columns.tolist()"
   ]
  },
  {
   "cell_type": "code",
   "execution_count": 4,
   "metadata": {},
   "outputs": [
    {
     "data": {
      "application/vnd.jupyter.widget-view+json": {
       "model_id": "f135cb94c3c94cd7b4724472fa40abda",
       "version_major": 2,
       "version_minor": 0
      },
      "text/plain": [
       "interactive(children=(SelectMultiple(description='Temperature:', index=(0,), options=('1-Air_Temperature (Deg …"
      ]
     },
     "metadata": {},
     "output_type": "display_data"
    }
   ],
   "source": [
    "drySelect = widgets.SelectMultiple(\n",
    "    options=DRY_COLS,\n",
    "    value=DRY_COLS[:1],\n",
    "    description='Temperature:',\n",
    "    disabled=False,\n",
    ")\n",
    "\n",
    "def plot_dry(cols):\n",
    "    print(cols)\n",
    "    dry_hourly.loc[:, cols].plot()\n",
    "    \n",
    "iplot = interactive(plot_dry, cols=drySelect)\n",
    "output = iplot.children[-1]\n",
    "output.layout.height = '350px'\n",
    "iplot"
   ]
  },
  {
   "cell_type": "code",
   "execution_count": 5,
   "metadata": {},
   "outputs": [
    {
     "data": {
      "application/vnd.jupyter.widget-view+json": {
       "model_id": "98c647eb3ad1408ea9f933d4e9b47bf1",
       "version_major": 2,
       "version_minor": 0
      },
      "text/plain": [
       "interactive(children=(SelectMultiple(description='Temperature:', index=(0,), options=('2_Air_Temperature (Deg …"
      ]
     },
     "metadata": {},
     "output_type": "display_data"
    }
   ],
   "source": [
    "humidSelect = widgets.SelectMultiple(\n",
    "    options=HUMID_COLS,\n",
    "    value=HUMID_COLS[:1],\n",
    "    description='Temperature:',\n",
    "    disabled=False,\n",
    ")\n",
    "\n",
    "def plot_humid(cols):\n",
    "    print(cols)\n",
    "    humid_hourly.loc[:, cols].plot()\n",
    "\n",
    "iplot = interactive(plot_humid, cols=humidSelect)\n",
    "output = iplot.children[-1]\n",
    "output.layout.height = '350px'\n",
    "iplot"
   ]
  }
 ],
 "metadata": {
  "kernelspec": {
   "display_name": "Python 3",
   "language": "python",
   "name": "python3"
  },
  "language_info": {
   "codemirror_mode": {
    "name": "ipython",
    "version": 3
   },
   "file_extension": ".py",
   "mimetype": "text/x-python",
   "name": "python",
   "nbconvert_exporter": "python",
   "pygments_lexer": "ipython3",
   "version": "3.6.4"
  }
 },
 "nbformat": 4,
 "nbformat_minor": 2
}
